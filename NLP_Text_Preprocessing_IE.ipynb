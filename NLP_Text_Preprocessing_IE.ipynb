{
  "nbformat": 4,
  "nbformat_minor": 0,
  "metadata": {
    "colab": {
      "provenance": [],
      "authorship_tag": "ABX9TyOkVAD8gbdAxOWc8kpMFW+U",
      "include_colab_link": true
    },
    "kernelspec": {
      "name": "python3",
      "display_name": "Python 3"
    },
    "language_info": {
      "name": "python"
    }
  },
  "cells": [
    {
      "cell_type": "markdown",
      "metadata": {
        "id": "view-in-github",
        "colab_type": "text"
      },
      "source": [
        "<a href=\"https://colab.research.google.com/github/KhurramRashid6893/NLP_Text-Preprocessing_IE/blob/main/NLP_Text_Preprocessing_IE.ipynb\" target=\"_parent\"><img src=\"https://colab.research.google.com/assets/colab-badge.svg\" alt=\"Open In Colab\"/></a>"
      ]
    },
    {
      "cell_type": "markdown",
      "source": [
        "# **Tokenization**\n",
        "\n",
        "Definition: Breaking text into smaller units called tokens — usually words or sentences."
      ],
      "metadata": {
        "id": "Z14W95VXdXjH"
      }
    },
    {
      "cell_type": "code",
      "source": [
        "import warnings\n",
        "warnings.filterwarnings(\"ignore\")"
      ],
      "metadata": {
        "id": "Nj_Chx6Ket_D"
      },
      "execution_count": 33,
      "outputs": []
    },
    {
      "cell_type": "code",
      "execution_count": 34,
      "metadata": {
        "colab": {
          "base_uri": "https://localhost:8080/"
        },
        "id": "Nj2IsxoAb6Wy",
        "outputId": "f7c22421-462d-443b-f1a1-6738b68bdf33"
      },
      "outputs": [
        {
          "output_type": "stream",
          "name": "stdout",
          "text": [
            "📘 Sentence Tokens:\n",
            "['Hello!', 'My name is Khurram Rashid.', 'I love NLP, Data Science, and AI.']\n",
            "\n",
            "🔠 Word Tokens:\n",
            "['Hello', '!', 'My', 'name', 'is', 'Khurram', 'Rashid', '.', 'I', 'love', 'NLP', ',', 'Data', 'Science', ',', 'and', 'AI', '.']\n"
          ]
        },
        {
          "output_type": "stream",
          "name": "stderr",
          "text": [
            "[nltk_data] Downloading package punkt to /root/nltk_data...\n",
            "[nltk_data]   Package punkt is already up-to-date!\n",
            "[nltk_data] Downloading package punkt_tab to /root/nltk_data...\n",
            "[nltk_data]   Package punkt_tab is already up-to-date!\n"
          ]
        }
      ],
      "source": [
        "import nltk\n",
        "from nltk.tokenize import word_tokenize, sent_tokenize\n",
        "\n",
        "# Download tokenizer data (only once)\n",
        "nltk.download('punkt')\n",
        "nltk.download('punkt_tab')\n",
        "\n",
        "# Sample text\n",
        "text = \"Hello! My name is Khurram Rashid. I love NLP, Data Science, and AI.\"\n",
        "\n",
        "# Sentence Tokenization\n",
        "sent_tokens = sent_tokenize(text)\n",
        "print(\"📘 Sentence Tokens:\")\n",
        "print(sent_tokens)\n",
        "\n",
        "# Word Tokenization\n",
        "word_tokens = word_tokenize(text)\n",
        "print(\"\\n🔠 Word Tokens:\")\n",
        "print(word_tokens)\n"
      ]
    },
    {
      "cell_type": "markdown",
      "source": [
        "# **What Are Stopwords?**\n",
        "\n",
        "Stopwords are common words that appear frequently in text but don’t carry significant meaning."
      ],
      "metadata": {
        "id": "X11l9sE6fkwQ"
      }
    },
    {
      "cell_type": "code",
      "source": [
        "import nltk\n",
        "from nltk.corpus import stopwords\n",
        "from nltk.tokenize import word_tokenize\n",
        "\n",
        "# Download resources (only the first time)\n",
        "# nltk.download('punkt')\n",
        "# nltk.download('punkt_tab')\n",
        "# nltk.download('stopwords')\n",
        "\n",
        "# Sample text\n",
        "text = \"I am learning Natural Language Processing and I love it!\"\n",
        "\n",
        "# Step 1️⃣: Tokenize the text\n",
        "tokens = word_tokenize(text)\n",
        "print(\"🔠 Tokens before stopword removal:\", tokens)\n",
        "\n",
        "# Step 2️⃣: Load English stopwords\n",
        "stop_words = set(stopwords.words('english'))\n",
        "print(\"\\n📘 Total English Stopwords:\", len(stop_words))\n",
        "\n",
        "# Step 3️⃣: Remove stopwords\n",
        "filtered_tokens = [word for word in tokens if word.lower() not in stop_words]\n",
        "print(\"\\n✅ Tokens after stopword removal:\", filtered_tokens)\n"
      ],
      "metadata": {
        "colab": {
          "base_uri": "https://localhost:8080/"
        },
        "id": "-Y8rr-sRfmWB",
        "outputId": "ab82d344-ae99-4184-d5a6-0aa2e2156233"
      },
      "execution_count": 35,
      "outputs": [
        {
          "output_type": "stream",
          "name": "stdout",
          "text": [
            "🔠 Tokens before stopword removal: ['I', 'am', 'learning', 'Natural', 'Language', 'Processing', 'and', 'I', 'love', 'it', '!']\n",
            "\n",
            "📘 Total English Stopwords: 198\n",
            "\n",
            "✅ Tokens after stopword removal: ['learning', 'Natural', 'Language', 'Processing', 'love', '!']\n"
          ]
        }
      ]
    },
    {
      "cell_type": "markdown",
      "source": [
        "# **What Is Text Normalization?**\n",
        "\n",
        "Text normalization is the process of converting text into a standard, uniform format that machines can easily process.\n",
        "\n",
        "It’s like cleaning and ironing words so that “Run”, “running”, and “runs” all become “run” — representing the same meaning."
      ],
      "metadata": {
        "id": "zq7Jy2FHhS2D"
      }
    },
    {
      "cell_type": "code",
      "source": [
        "import nltk\n",
        "from nltk.tokenize import word_tokenize\n",
        "from nltk.stem import PorterStemmer, WordNetLemmatizer\n",
        "import re\n",
        "\n",
        "# # Download necessary resources\n",
        "# nltk.download('punkt')\n",
        "# nltk.download('punkt_tab')\n",
        "# nltk.download('wordnet')\n",
        "\n",
        "# Sample text\n",
        "text = \"The runners are running quickly towards the finish line in 2025!!! 🏃‍♂️\"\n",
        "\n",
        "print(\"📝 Original Text:\\n\", text)\n",
        "\n",
        "# Step 1️⃣: Lowercasing\n",
        "text = text.lower()\n",
        "\n",
        "# Step 2️⃣: Remove numbers and punctuation\n",
        "text = re.sub(r'\\d+', '', text)               # remove digits\n",
        "text = re.sub(r'[^\\w\\s]', '', text)           # remove punctuation/symbols\n",
        "text = re.sub(r'\\s+', ' ', text).strip()      # remove extra spaces\n",
        "\n",
        "print(\"\\n✅ Cleaned Text:\\n\", text)\n",
        "\n",
        "# Step 3️⃣: Tokenization\n",
        "tokens = word_tokenize(text)\n",
        "print(\"\\n🔠 Tokens:\", tokens)\n",
        "\n",
        "# Step 4️⃣: Stemming\n",
        "ps = PorterStemmer()\n",
        "stemmed = [ps.stem(word) for word in tokens]\n",
        "print(\"\\n🌱 Stemmed Words:\", stemmed)\n",
        "\n",
        "# Step 5️⃣: Lemmatization\n",
        "lm = WordNetLemmatizer()\n",
        "lemmatized = [lm.lemmatize(word) for word in tokens]\n",
        "print(\"\\n🍃 Lemmatized Words:\", lemmatized)\n"
      ],
      "metadata": {
        "colab": {
          "base_uri": "https://localhost:8080/"
        },
        "id": "BDozYT2LgStt",
        "outputId": "c65fd654-2730-4277-98e9-0b8d8c9fda4e"
      },
      "execution_count": 36,
      "outputs": [
        {
          "output_type": "stream",
          "name": "stdout",
          "text": [
            "📝 Original Text:\n",
            " The runners are running quickly towards the finish line in 2025!!! 🏃‍♂️\n",
            "\n",
            "✅ Cleaned Text:\n",
            " the runners are running quickly towards the finish line in\n",
            "\n",
            "🔠 Tokens: ['the', 'runners', 'are', 'running', 'quickly', 'towards', 'the', 'finish', 'line', 'in']\n",
            "\n",
            "🌱 Stemmed Words: ['the', 'runner', 'are', 'run', 'quickli', 'toward', 'the', 'finish', 'line', 'in']\n",
            "\n",
            "🍃 Lemmatized Words: ['the', 'runner', 'are', 'running', 'quickly', 'towards', 'the', 'finish', 'line', 'in']\n"
          ]
        }
      ]
    },
    {
      "cell_type": "markdown",
      "source": [
        "# **What Is Text Exploration?**\n",
        "\n",
        "Text exploration (also known as text analysis or text understanding) means:\n",
        "\n",
        "Analyzing the cleaned text to understand its structure, vocabulary, and distribution of words.\n",
        "\n",
        "Before you train any NLP model, you should know:\n",
        "\n",
        "**How big is your dataset?**\n",
        "\n",
        "What are the most frequent words?\n",
        "\n",
        "Are there any rare or misspelled words?"
      ],
      "metadata": {
        "id": "okE6lnN9gqry"
      }
    },
    {
      "cell_type": "code",
      "source": [
        "import nltk\n",
        "from nltk.tokenize import word_tokenize\n",
        "from nltk.probability import FreqDist\n",
        "import matplotlib.pyplot as plt\n",
        "\n",
        "# Download resources\n",
        "# nltk.download('punkt')\n",
        "# nltk.download('punkt_tab')\n",
        "\n",
        "# Sample text\n",
        "text = \"\"\"\n",
        "Natural Language Processing (NLP) is a fascinating field of Artificial Intelligence.\n",
        "It enables machines to read, understand, and generate human language.\n",
        "NLP includes tasks like tokenization, sentiment analysis, and translation.\n",
        "\"\"\"\n",
        "\n",
        "# Step 1️⃣: Tokenize text\n",
        "tokens = word_tokenize(text.lower())\n",
        "\n",
        "print(\"🔠 Tokens:\", tokens)\n",
        "print(\"📊 Total Words:\", len(tokens))\n",
        "print(\"🧩 Unique Words:\", len(set(tokens)))\n",
        "\n",
        "# Step 2️⃣: Frequency Distribution\n",
        "fdist = FreqDist(tokens)\n",
        "\n",
        "print(\"\\n💬 10 Most Common Words:\")\n",
        "print(fdist.most_common(10))\n",
        "\n",
        "# Step 3️⃣: Visualize Word Frequency\n",
        "plt.figure(figsize=(8, 4))\n",
        "fdist.plot(10, title=\"Top 10 Most Common Words in Text\")\n",
        "plt.show()\n",
        "\n",
        "# Step 4️⃣: Remove stopwords for clearer insights\n",
        "from nltk.corpus import stopwords\n",
        "nltk.download('stopwords')\n",
        "\n",
        "stop_words = set(stopwords.words('english'))\n",
        "filtered = [w for w in tokens if w.isalpha() and w not in stop_words]\n",
        "\n",
        "fdist_filtered = FreqDist(filtered)\n",
        "print(\"\\n💡 10 Most Common Words (after removing stopwords):\")\n",
        "print(fdist_filtered.most_common(10))\n"
      ],
      "metadata": {
        "colab": {
          "base_uri": "https://localhost:8080/",
          "height": 682
        },
        "id": "AzL5Z1UkgwTu",
        "outputId": "790a1009-ebfd-4dfc-d348-7e1fc6261d54"
      },
      "execution_count": 37,
      "outputs": [
        {
          "output_type": "stream",
          "name": "stdout",
          "text": [
            "🔠 Tokens: ['natural', 'language', 'processing', '(', 'nlp', ')', 'is', 'a', 'fascinating', 'field', 'of', 'artificial', 'intelligence', '.', 'it', 'enables', 'machines', 'to', 'read', ',', 'understand', ',', 'and', 'generate', 'human', 'language', '.', 'nlp', 'includes', 'tasks', 'like', 'tokenization', ',', 'sentiment', 'analysis', ',', 'and', 'translation', '.']\n",
            "📊 Total Words: 39\n",
            "🧩 Unique Words: 31\n",
            "\n",
            "💬 10 Most Common Words:\n",
            "[(',', 4), ('.', 3), ('language', 2), ('nlp', 2), ('and', 2), ('natural', 1), ('processing', 1), ('(', 1), (')', 1), ('is', 1)]\n"
          ]
        },
        {
          "output_type": "display_data",
          "data": {
            "text/plain": [
              "<Figure size 800x400 with 1 Axes>"
            ],
            "image/png": "[encoded data removed]"
          },
          "metadata": {}
        },
        {
          "output_type": "stream",
          "name": "stdout",
          "text": [
            "\n",
            "💡 10 Most Common Words (after removing stopwords):\n",
            "[('language', 2), ('nlp', 2), ('natural', 1), ('processing', 1), ('fascinating', 1), ('field', 1), ('artificial', 1), ('intelligence', 1), ('enables', 1), ('machines', 1)]\n"
          ]
        },
        {
          "output_type": "stream",
          "name": "stderr",
          "text": [
            "[nltk_data] Downloading package stopwords to /root/nltk_data...\n",
            "[nltk_data]   Package stopwords is already up-to-date!\n"
          ]
        }
      ]
    },
    {
      "cell_type": "markdown",
      "source": [
        "# **What Is Information Extraction?**\n",
        "\n",
        "Information Extraction (IE) is the process of automatically identifying and extracting structured information (like people, places, organizations, dates, relationships) from unstructured text.\n",
        "\n",
        "In short — turning messy text into organized data."
      ],
      "metadata": {
        "id": "-Q-qV40ihHlk"
      }
    },
    {
      "cell_type": "code",
      "source": [
        "# Install spaCy (only once)\n",
        "# pip install spacy\n",
        "# python -m spacy download en_core_web_sm\n",
        "\n",
        "import spacy\n",
        "\n",
        "# Load English NLP model\n",
        "nlp = spacy.load(\"en_core_web_sm\")\n",
        "\n",
        "# Sample text\n",
        "text = \"Khurram Rashid founded IbtidaaTech in the India in 2025.\"\n",
        "\n",
        "# Process text\n",
        "doc = nlp(text)\n",
        "\n",
        "# Named Entity Recognition\n",
        "print(\"🏷️ Named Entities:\")\n",
        "for ent in doc.ents:\n",
        "    print(f\"{ent.text} --> {ent.label_}\")\n",
        "\n",
        "# POS Tagging\n",
        "print(\"\\n🔤 Part of Speech Tags:\")\n",
        "for token in doc:\n",
        "    print(f\"{token.text:<12} {token.pos_:<10} {token.dep_:<15} {token.head.text}\")\n",
        "\n",
        "# Dependency visualization (optional in Jupyter)\n",
        "# from spacy import displacy\n",
        "# displacy.render(doc, style=\"dep\")\n"
      ],
      "metadata": {
        "colab": {
          "base_uri": "https://localhost:8080/"
        },
        "id": "MOgsPWzdhI-2",
        "outputId": "03d39c2b-6af6-4d71-81b4-de674c1bad32"
      },
      "execution_count": 38,
      "outputs": [
        {
          "output_type": "stream",
          "name": "stdout",
          "text": [
            "🏷️ Named Entities:\n",
            "Khurram Rashid --> PERSON\n",
            "IbtidaaTech --> ORG\n",
            "India --> GPE\n",
            "2025 --> DATE\n",
            "\n",
            "🔤 Part of Speech Tags:\n",
            "Khurram      PROPN      compound        Rashid\n",
            "Rashid       PROPN      nsubj           founded\n",
            "founded      VERB       ROOT            founded\n",
            "IbtidaaTech  PROPN      dobj            founded\n",
            "in           ADP        prep            founded\n",
            "the          DET        det             India\n",
            "India        PROPN      pobj            in\n",
            "in           ADP        prep            founded\n",
            "2025         NUM        pobj            in\n",
            ".            PUNCT      punct           founded\n"
          ]
        }
      ]
    },
    {
      "cell_type": "markdown",
      "source": [
        "# **Parts of Speech (POS) Tagging**\n",
        " What Is POS Tagging?\n",
        "\n",
        "Part-of-Speech (POS) Tagging is the process of labeling each word in a sentence with its grammatical role —\n",
        "such as noun, verb, adjective, adverb, pronoun, etc.\n",
        "\n",
        "It tells what kind of word each token is, and how it functions in the sentence."
      ],
      "metadata": {
        "id": "qRG__BXDkfj-"
      }
    },
    {
      "cell_type": "code",
      "source": [
        "# pip install spacy\n",
        "# python -m spacy download en_core_web_sm\n",
        "\n",
        "import spacy\n",
        "\n",
        "# Load English NLP model\n",
        "nlp = spacy.load(\"en_core_web_sm\")\n",
        "\n",
        "# Sample text\n",
        "text = \"Khurram Rashid founded IbtidaaTech in India in 2025.\"\n",
        "\n",
        "# Process the text\n",
        "doc = nlp(text)\n",
        "\n",
        "print(\"🔤 Parts of Speech Tags:\\n\")\n",
        "for token in doc:\n",
        "    print(f\"{token.text:<12} {token.pos_:<10} {token.tag_:<10} {token.dep_:<15} {token.head.text}\")\n"
      ],
      "metadata": {
        "colab": {
          "base_uri": "https://localhost:8080/"
        },
        "id": "DdiFru1ZkiPp",
        "outputId": "964ba7e8-4953-423f-8bee-8d7144c9d053"
      },
      "execution_count": 39,
      "outputs": [
        {
          "output_type": "stream",
          "name": "stdout",
          "text": [
            "🔤 Parts of Speech Tags:\n",
            "\n",
            "Khurram      PROPN      NNP        compound        Rashid\n",
            "Rashid       PROPN      NNP        nsubj           founded\n",
            "founded      VERB       VBD        ROOT            founded\n",
            "IbtidaaTech  PROPN      NNP        dobj            founded\n",
            "in           ADP        IN         prep            founded\n",
            "India        PROPN      NNP        pobj            in\n",
            "in           ADP        IN         prep            founded\n",
            "2025         NUM        CD         pobj            in\n",
            ".            PUNCT      .          punct           founded\n"
          ]
        }
      ]
    },
    {
      "cell_type": "code",
      "source": [
        "from spacy import displacy\n",
        "displacy.render(doc, style=\"dep\")\n"
      ],
      "metadata": {
        "colab": {
          "base_uri": "https://localhost:8080/",
          "height": 441
        },
        "id": "afy1gF_dkyRL",
        "outputId": "e13b96af-417d-43d5-9148-feebcf59710c"
      },
      "execution_count": 40,
      "outputs": [
        {
          "output_type": "display_data",
          "data": {
            "text/plain": [
              "<IPython.core.display.HTML object>"
            ],
            "text/html": [
              "<span class=\"tex2jax_ignore\"><svg xmlns=\"http://www.w3.org/2000/svg\" xmlns:xlink=\"http://www.w3.org/1999/xlink\" xml:lang=\"en\" id=\"3352c66ef80d4d8fa6fb8a9f5a1757e0-0\" class=\"displacy\" width=\"1450\" height=\"399.5\" direction=\"ltr\" style=\"max-width: none; height: 399.5px; color: #000000; background: #ffffff; font-family: Arial; direction: ltr\">\n",
              "<text class=\"displacy-token\" fill=\"currentColor\" text-anchor=\"middle\" y=\"309.5\">\n",
              "    <tspan class=\"displacy-word\" fill=\"currentColor\" x=\"50\">Khurram</tspan>\n",
              "    <tspan class=\"displacy-tag\" dy=\"2em\" fill=\"currentColor\" x=\"50\">PROPN</tspan>\n",
              "</text>\n",
              "\n",
              "<text class=\"displacy-token\" fill=\"currentColor\" text-anchor=\"middle\" y=\"309.5\">\n",
              "    <tspan class=\"displacy-word\" fill=\"currentColor\" x=\"225\">Rashid</tspan>\n",
              "    <tspan class=\"displacy-tag\" dy=\"2em\" fill=\"currentColor\" x=\"225\">PROPN</tspan>\n",
              "</text>\n",
              "\n",
              "<text class=\"displacy-token\" fill=\"currentColor\" text-anchor=\"middle\" y=\"309.5\">\n",
              "    <tspan class=\"displacy-word\" fill=\"currentColor\" x=\"400\">founded</tspan>\n",
              "    <tspan class=\"displacy-tag\" dy=\"2em\" fill=\"currentColor\" x=\"400\">VERB</tspan>\n",
              "</text>\n",
              "\n",
              "<text class=\"displacy-token\" fill=\"currentColor\" text-anchor=\"middle\" y=\"309.5\">\n",
              "    <tspan class=\"displacy-word\" fill=\"currentColor\" x=\"575\">IbtidaaTech</tspan>\n",
              "    <tspan class=\"displacy-tag\" dy=\"2em\" fill=\"currentColor\" x=\"575\">PROPN</tspan>\n",
              "</text>\n",
              "\n",
              "<text class=\"displacy-token\" fill=\"currentColor\" text-anchor=\"middle\" y=\"309.5\">\n",
              "    <tspan class=\"displacy-word\" fill=\"currentColor\" x=\"750\">in</tspan>\n",
              "    <tspan class=\"displacy-tag\" dy=\"2em\" fill=\"currentColor\" x=\"750\">ADP</tspan>\n",
              "</text>\n",
              "\n",
              "<text class=\"displacy-token\" fill=\"currentColor\" text-anchor=\"middle\" y=\"309.5\">\n",
              "    <tspan class=\"displacy-word\" fill=\"currentColor\" x=\"925\">India</tspan>\n",
              "    <tspan class=\"displacy-tag\" dy=\"2em\" fill=\"currentColor\" x=\"925\">PROPN</tspan>\n",
              "</text>\n",
              "\n",
              "<text class=\"displacy-token\" fill=\"currentColor\" text-anchor=\"middle\" y=\"309.5\">\n",
              "    <tspan class=\"displacy-word\" fill=\"currentColor\" x=\"1100\">in</tspan>\n",
              "    <tspan class=\"displacy-tag\" dy=\"2em\" fill=\"currentColor\" x=\"1100\">ADP</tspan>\n",
              "</text>\n",
              "\n",
              "<text class=\"displacy-token\" fill=\"currentColor\" text-anchor=\"middle\" y=\"309.5\">\n",
              "    <tspan class=\"displacy-word\" fill=\"currentColor\" x=\"1275\">2025.</tspan>\n",
              "    <tspan class=\"displacy-tag\" dy=\"2em\" fill=\"currentColor\" x=\"1275\">NUM</tspan>\n",
              "</text>\n",
              "\n",
              "<g class=\"displacy-arrow\">\n",
              "    <path class=\"displacy-arc\" id=\"arrow-3352c66ef80d4d8fa6fb8a9f5a1757e0-0-0\" stroke-width=\"2px\" d=\"M70,264.5 C70,177.0 215.0,177.0 215.0,264.5\" fill=\"none\" stroke=\"currentColor\"/>\n",
              "    <text dy=\"1.25em\" style=\"font-size: 0.8em; letter-spacing: 1px\">\n",
              "        <textPath xlink:href=\"#arrow-3352c66ef80d4d8fa6fb8a9f5a1757e0-0-0\" class=\"displacy-label\" startOffset=\"50%\" side=\"left\" fill=\"currentColor\" text-anchor=\"middle\">compound</textPath>\n",
              "    </text>\n",
              "    <path class=\"displacy-arrowhead\" d=\"M70,266.5 L62,254.5 78,254.5\" fill=\"currentColor\"/>\n",
              "</g>\n",
              "\n",
              "<g class=\"displacy-arrow\">\n",
              "    <path class=\"displacy-arc\" id=\"arrow-3352c66ef80d4d8fa6fb8a9f5a1757e0-0-1\" stroke-width=\"2px\" d=\"M245,264.5 C245,177.0 390.0,177.0 390.0,264.5\" fill=\"none\" stroke=\"currentColor\"/>\n",
              "    <text dy=\"1.25em\" style=\"font-size: 0.8em; letter-spacing: 1px\">\n",
              "        <textPath xlink:href=\"#arrow-3352c66ef80d4d8fa6fb8a9f5a1757e0-0-1\" class=\"displacy-label\" startOffset=\"50%\" side=\"left\" fill=\"currentColor\" text-anchor=\"middle\">nsubj</textPath>\n",
              "    </text>\n",
              "    <path class=\"displacy-arrowhead\" d=\"M245,266.5 L237,254.5 253,254.5\" fill=\"currentColor\"/>\n",
              "</g>\n",
              "\n",
              "<g class=\"displacy-arrow\">\n",
              "    <path class=\"displacy-arc\" id=\"arrow-3352c66ef80d4d8fa6fb8a9f5a1757e0-0-2\" stroke-width=\"2px\" d=\"M420,264.5 C420,177.0 565.0,177.0 565.0,264.5\" fill=\"none\" stroke=\"currentColor\"/>\n",
              "    <text dy=\"1.25em\" style=\"font-size: 0.8em; letter-spacing: 1px\">\n",
              "        <textPath xlink:href=\"#arrow-3352c66ef80d4d8fa6fb8a9f5a1757e0-0-2\" class=\"displacy-label\" startOffset=\"50%\" side=\"left\" fill=\"currentColor\" text-anchor=\"middle\">dobj</textPath>\n",
              "    </text>\n",
              "    <path class=\"displacy-arrowhead\" d=\"M565.0,266.5 L573.0,254.5 557.0,254.5\" fill=\"currentColor\"/>\n",
              "</g>\n",
              "\n",
              "<g class=\"displacy-arrow\">\n",
              "    <path class=\"displacy-arc\" id=\"arrow-3352c66ef80d4d8fa6fb8a9f5a1757e0-0-3\" stroke-width=\"2px\" d=\"M420,264.5 C420,89.5 745.0,89.5 745.0,264.5\" fill=\"none\" stroke=\"currentColor\"/>\n",
              "    <text dy=\"1.25em\" style=\"font-size: 0.8em; letter-spacing: 1px\">\n",
              "        <textPath xlink:href=\"#arrow-3352c66ef80d4d8fa6fb8a9f5a1757e0-0-3\" class=\"displacy-label\" startOffset=\"50%\" side=\"left\" fill=\"currentColor\" text-anchor=\"middle\">prep</textPath>\n",
              "    </text>\n",
              "    <path class=\"displacy-arrowhead\" d=\"M745.0,266.5 L753.0,254.5 737.0,254.5\" fill=\"currentColor\"/>\n",
              "</g>\n",
              "\n",
              "<g class=\"displacy-arrow\">\n",
              "    <path class=\"displacy-arc\" id=\"arrow-3352c66ef80d4d8fa6fb8a9f5a1757e0-0-4\" stroke-width=\"2px\" d=\"M770,264.5 C770,177.0 915.0,177.0 915.0,264.5\" fill=\"none\" stroke=\"currentColor\"/>\n",
              "    <text dy=\"1.25em\" style=\"font-size: 0.8em; letter-spacing: 1px\">\n",
              "        <textPath xlink:href=\"#arrow-3352c66ef80d4d8fa6fb8a9f5a1757e0-0-4\" class=\"displacy-label\" startOffset=\"50%\" side=\"left\" fill=\"currentColor\" text-anchor=\"middle\">pobj</textPath>\n",
              "    </text>\n",
              "    <path class=\"displacy-arrowhead\" d=\"M915.0,266.5 L923.0,254.5 907.0,254.5\" fill=\"currentColor\"/>\n",
              "</g>\n",
              "\n",
              "<g class=\"displacy-arrow\">\n",
              "    <path class=\"displacy-arc\" id=\"arrow-3352c66ef80d4d8fa6fb8a9f5a1757e0-0-5\" stroke-width=\"2px\" d=\"M420,264.5 C420,2.0 1100.0,2.0 1100.0,264.5\" fill=\"none\" stroke=\"currentColor\"/>\n",
              "    <text dy=\"1.25em\" style=\"font-size: 0.8em; letter-spacing: 1px\">\n",
              "        <textPath xlink:href=\"#arrow-3352c66ef80d4d8fa6fb8a9f5a1757e0-0-5\" class=\"displacy-label\" startOffset=\"50%\" side=\"left\" fill=\"currentColor\" text-anchor=\"middle\">prep</textPath>\n",
              "    </text>\n",
              "    <path class=\"displacy-arrowhead\" d=\"M1100.0,266.5 L1108.0,254.5 1092.0,254.5\" fill=\"currentColor\"/>\n",
              "</g>\n",
              "\n",
              "<g class=\"displacy-arrow\">\n",
              "    <path class=\"displacy-arc\" id=\"arrow-3352c66ef80d4d8fa6fb8a9f5a1757e0-0-6\" stroke-width=\"2px\" d=\"M1120,264.5 C1120,177.0 1265.0,177.0 1265.0,264.5\" fill=\"none\" stroke=\"currentColor\"/>\n",
              "    <text dy=\"1.25em\" style=\"font-size: 0.8em; letter-spacing: 1px\">\n",
              "        <textPath xlink:href=\"#arrow-3352c66ef80d4d8fa6fb8a9f5a1757e0-0-6\" class=\"displacy-label\" startOffset=\"50%\" side=\"left\" fill=\"currentColor\" text-anchor=\"middle\">pobj</textPath>\n",
              "    </text>\n",
              "    <path class=\"displacy-arrowhead\" d=\"M1265.0,266.5 L1273.0,254.5 1257.0,254.5\" fill=\"currentColor\"/>\n",
              "</g>\n",
              "</svg></span>"
            ]
          },
          "metadata": {}
        }
      ]
    },
    {
      "cell_type": "markdown",
      "source": [
        "# **What Is Dependency Parsing?**\n",
        "\n",
        "Dependency Parsing is the process of analyzing the grammatical structure of a sentence and identifying how words relate to each other —\n",
        "in terms of who did what to whom.\n",
        "\n",
        "It tells us which word is the main verb (root), which is the subject, which is the object, and so on."
      ],
      "metadata": {
        "id": "ncgKNo9Yk9XD"
      }
    },
    {
      "cell_type": "code",
      "source": [
        "# pip install spacy\n",
        "# python -m spacy download en_core_web_sm\n",
        "\n",
        "import spacy\n",
        "from spacy import displacy\n",
        "\n",
        "# Load English model\n",
        "nlp = spacy.load(\"en_core_web_sm\")\n",
        "\n",
        "# Sample sentence\n",
        "text = \"Khurram Rashid founded IbtidaaTech in India in 2025.\"\n",
        "doc = nlp(text)\n",
        "\n",
        "# Print dependencies for each token\n",
        "print(\"🔗 Dependency Relations:\\n\")\n",
        "for token in doc:\n",
        "    print(f\"{token.text:<12} {token.dep_:<15} {token.head.text:<12} {token.pos_:<10}\")\n",
        "\n",
        "# Optional: visualize (in Jupyter/Colab)\n",
        "# displacy.render(doc, style=\"dep\")\n"
      ],
      "metadata": {
        "colab": {
          "base_uri": "https://localhost:8080/"
        },
        "id": "pILJVRXgk_mD",
        "outputId": "290d452d-4e23-466d-a4ba-b72563bd2118"
      },
      "execution_count": 41,
      "outputs": [
        {
          "output_type": "stream",
          "name": "stdout",
          "text": [
            "🔗 Dependency Relations:\n",
            "\n",
            "Khurram      compound        Rashid       PROPN     \n",
            "Rashid       nsubj           founded      PROPN     \n",
            "founded      ROOT            founded      VERB      \n",
            "IbtidaaTech  dobj            founded      PROPN     \n",
            "in           prep            founded      ADP       \n",
            "India        pobj            in           PROPN     \n",
            "in           prep            founded      ADP       \n",
            "2025         pobj            in           NUM       \n",
            ".            punct           founded      PUNCT     \n"
          ]
        }
      ]
    },
    {
      "cell_type": "markdown",
      "source": [
        "# **What Is Named Entity Recognition (NER)?**\n",
        "\n",
        "Named Entity Recognition (NER) is the process of identifying and classifying “named entities” — real-world objects — in text into predefined categories such as:\n",
        "\n",
        "🧍 Person, 🏢 Organization, 🌍 Location, 📅 Date, 💰 Money, 🕒 Time, etc.\n",
        "\n",
        "In other words, NER finds what the text is talking about."
      ],
      "metadata": {
        "id": "7giK-DpPl5lD"
      }
    },
    {
      "cell_type": "code",
      "source": [
        "# pip install spacy\n",
        "# python -m spacy download en_core_web_sm\n",
        "\n",
        "import spacy\n",
        "from spacy import displacy\n",
        "\n",
        "# Load English NLP model\n",
        "nlp = spacy.load(\"en_core_web_sm\")\n",
        "\n",
        "# Sample text\n",
        "text = \"Khurram Rashid founded IbtidaaTech in India in 2025.\"\n",
        "\n",
        "# Process text\n",
        "doc = nlp(text)\n",
        "\n",
        "# Print entities\n",
        "print(\"🏷️ Named Entities:\\n\")\n",
        "for ent in doc.ents:\n",
        "    print(f\"{ent.text:<25} --> {ent.label_}\")\n",
        "\n",
        "# Optional: Visualize entities (works in Jupyter/Colab)\n",
        "displacy.render(doc, style=\"ent\")\n"
      ],
      "metadata": {
        "colab": {
          "base_uri": "https://localhost:8080/",
          "height": 156
        },
        "id": "puQNX1YKl7GW",
        "outputId": "934694df-9cfb-4316-bec5-88c55cfb3c92"
      },
      "execution_count": 42,
      "outputs": [
        {
          "output_type": "stream",
          "name": "stdout",
          "text": [
            "🏷️ Named Entities:\n",
            "\n",
            "Khurram Rashid            --> PERSON\n",
            "IbtidaaTech               --> ORG\n",
            "India                     --> GPE\n",
            "2025                      --> DATE\n"
          ]
        },
        {
          "output_type": "display_data",
          "data": {
            "text/plain": [
              "<IPython.core.display.HTML object>"
            ],
            "text/html": [
              "<span class=\"tex2jax_ignore\"><div class=\"entities\" style=\"line-height: 2.5; direction: ltr\">\n",
              "<mark class=\"entity\" style=\"background: #aa9cfc; padding: 0.45em 0.6em; margin: 0 0.25em; line-height: 1; border-radius: 0.35em;\">\n",
              "    Khurram Rashid\n",
              "    <span style=\"font-size: 0.8em; font-weight: bold; line-height: 1; border-radius: 0.35em; vertical-align: middle; margin-left: 0.5rem\">PERSON</span>\n",
              "</mark>\n",
              " founded \n",
              "<mark class=\"entity\" style=\"background: #7aecec; padding: 0.45em 0.6em; margin: 0 0.25em; line-height: 1; border-radius: 0.35em;\">\n",
              "    IbtidaaTech\n",
              "    <span style=\"font-size: 0.8em; font-weight: bold; line-height: 1; border-radius: 0.35em; vertical-align: middle; margin-left: 0.5rem\">ORG</span>\n",
              "</mark>\n",
              " in \n",
              "<mark class=\"entity\" style=\"background: #feca74; padding: 0.45em 0.6em; margin: 0 0.25em; line-height: 1; border-radius: 0.35em;\">\n",
              "    India\n",
              "    <span style=\"font-size: 0.8em; font-weight: bold; line-height: 1; border-radius: 0.35em; vertical-align: middle; margin-left: 0.5rem\">GPE</span>\n",
              "</mark>\n",
              " in \n",
              "<mark class=\"entity\" style=\"background: #bfe1d9; padding: 0.45em 0.6em; margin: 0 0.25em; line-height: 1; border-radius: 0.35em;\">\n",
              "    2025\n",
              "    <span style=\"font-size: 0.8em; font-weight: bold; line-height: 1; border-radius: 0.35em; vertical-align: middle; margin-left: 0.5rem\">DATE</span>\n",
              "</mark>\n",
              ".</div></span>"
            ]
          },
          "metadata": {}
        }
      ]
    },
    {
      "cell_type": "code",
      "source": [
        "import spacy\n",
        "\n",
        "nlp = spacy.load(\"en_core_web_sm\")  # load English model\n",
        "\n",
        "text = \"Khurram Rashid founded IbtidaaTech in India in 2025.\"\n",
        "doc = nlp(text)  # process the text\n",
        "\n",
        "for token in doc:\n",
        "    print(token.text, \"|\", token.pos_, \"|\", token.dep_)\n"
      ],
      "metadata": {
        "colab": {
          "base_uri": "https://localhost:8080/"
        },
        "id": "QJJB0HSpmSSa",
        "outputId": "e6834753-f44c-4cca-fa75-af8265dd8e6c"
      },
      "execution_count": 43,
      "outputs": [
        {
          "output_type": "stream",
          "name": "stdout",
          "text": [
            "Khurram | PROPN | compound\n",
            "Rashid | PROPN | nsubj\n",
            "founded | VERB | ROOT\n",
            "IbtidaaTech | PROPN | dobj\n",
            "in | ADP | prep\n",
            "India | PROPN | pobj\n",
            "in | ADP | prep\n",
            "2025 | NUM | pobj\n",
            ". | PUNCT | punct\n"
          ]
        }
      ]
    },
    {
      "cell_type": "code",
      "source": [
        "print(nlp.pipe_names)\n"
      ],
      "metadata": {
        "colab": {
          "base_uri": "https://localhost:8080/"
        },
        "id": "AuqySirymV5a",
        "outputId": "74f10789-427b-4960-edf9-7cf70f8829aa"
      },
      "execution_count": 44,
      "outputs": [
        {
          "output_type": "stream",
          "name": "stdout",
          "text": [
            "['tok2vec', 'tagger', 'parser', 'attribute_ruler', 'lemmatizer', 'ner']\n"
          ]
        }
      ]
    },
    {
      "cell_type": "code",
      "source": [
        "nlp = spacy.load(\"en_core_web_sm\")\n",
        "doc = nlp(\"Khurram Rashid founded IbtidaaTech in India in 2025.\")\n"
      ],
      "metadata": {
        "id": "6PEdjiB5mmm4"
      },
      "execution_count": 45,
      "outputs": []
    },
    {
      "cell_type": "code",
      "source": [
        "import spacy\n",
        "nlp = spacy.load(\"en_core_web_sm\")\n",
        "print(nlp.pipe_names)\n"
      ],
      "metadata": {
        "colab": {
          "base_uri": "https://localhost:8080/"
        },
        "id": "PC3x3_Tfmp9H",
        "outputId": "fdb1338b-7b42-44e0-f3f2-79a8cee1b45a"
      },
      "execution_count": 47,
      "outputs": [
        {
          "output_type": "stream",
          "name": "stdout",
          "text": [
            "['tok2vec', 'tagger', 'parser', 'attribute_ruler', 'lemmatizer', 'ner']\n"
          ]
        }
      ]
    },
    {
      "cell_type": "code",
      "source": [
        "text = \"Khurram Rashid founded IbtidaaTech in India in 2025.\"\n",
        "doc = nlp(text)\n",
        "\n",
        "print(\"1️⃣ Tokens:\", [token.text for token in doc])\n",
        "print(\"\\n2️⃣ POS Tags:\", [(token.text, token.pos_) for token in doc])\n",
        "print(\"\\n3️⃣ Dependencies:\", [(token.text, token.dep_, token.head.text) for token in doc])\n",
        "print(\"\\n4️⃣ Named Entities:\", [(ent.text, ent.label_) for ent in doc.ents])\n"
      ],
      "metadata": {
        "colab": {
          "base_uri": "https://localhost:8080/"
        },
        "id": "hOuX6YwYm-ok",
        "outputId": "6280b340-a41f-4340-9040-db487445741b"
      },
      "execution_count": 48,
      "outputs": [
        {
          "output_type": "stream",
          "name": "stdout",
          "text": [
            "1️⃣ Tokens: ['Khurram', 'Rashid', 'founded', 'IbtidaaTech', 'in', 'India', 'in', '2025', '.']\n",
            "\n",
            "2️⃣ POS Tags: [('Khurram', 'PROPN'), ('Rashid', 'PROPN'), ('founded', 'VERB'), ('IbtidaaTech', 'PROPN'), ('in', 'ADP'), ('India', 'PROPN'), ('in', 'ADP'), ('2025', 'NUM'), ('.', 'PUNCT')]\n",
            "\n",
            "3️⃣ Dependencies: [('Khurram', 'compound', 'Rashid'), ('Rashid', 'nsubj', 'founded'), ('founded', 'ROOT', 'founded'), ('IbtidaaTech', 'dobj', 'founded'), ('in', 'prep', 'founded'), ('India', 'pobj', 'in'), ('in', 'prep', 'founded'), ('2025', 'pobj', 'in'), ('.', 'punct', 'founded')]\n",
            "\n",
            "4️⃣ Named Entities: [('Khurram Rashid', 'PERSON'), ('IbtidaaTech', 'ORG'), ('India', 'GPE'), ('2025', 'DATE')]\n"
          ]
        }
      ]
    },
    {
      "cell_type": "code",
      "source": [
        "from spacy import displacy\n",
        "displacy.render(doc, style=\"dep\")  # for dependency parsing\n",
        "# or\n",
        "displacy.render(doc, style=\"ent\")  # for entity recognition\n"
      ],
      "metadata": {
        "colab": {
          "base_uri": "https://localhost:8080/",
          "height": 476
        },
        "id": "IYmwRjdCnF3R",
        "outputId": "ca7afd41-81c8-4cd7-cd20-f702126f01e2"
      },
      "execution_count": 49,
      "outputs": [
        {
          "output_type": "display_data",
          "data": {
            "text/plain": [
              "<IPython.core.display.HTML object>"
            ],
            "text/html": [
              "<span class=\"tex2jax_ignore\"><svg xmlns=\"http://www.w3.org/2000/svg\" xmlns:xlink=\"http://www.w3.org/1999/xlink\" xml:lang=\"en\" id=\"4f8a04fb535d4398be7ccc0f93a03653-0\" class=\"displacy\" width=\"1450\" height=\"399.5\" direction=\"ltr\" style=\"max-width: none; height: 399.5px; color: #000000; background: #ffffff; font-family: Arial; direction: ltr\">\n",
              "<text class=\"displacy-token\" fill=\"currentColor\" text-anchor=\"middle\" y=\"309.5\">\n",
              "    <tspan class=\"displacy-word\" fill=\"currentColor\" x=\"50\">Khurram</tspan>\n",
              "    <tspan class=\"displacy-tag\" dy=\"2em\" fill=\"currentColor\" x=\"50\">PROPN</tspan>\n",
              "</text>\n",
              "\n",
              "<text class=\"displacy-token\" fill=\"currentColor\" text-anchor=\"middle\" y=\"309.5\">\n",
              "    <tspan class=\"displacy-word\" fill=\"currentColor\" x=\"225\">Rashid</tspan>\n",
              "    <tspan class=\"displacy-tag\" dy=\"2em\" fill=\"currentColor\" x=\"225\">PROPN</tspan>\n",
              "</text>\n",
              "\n",
              "<text class=\"displacy-token\" fill=\"currentColor\" text-anchor=\"middle\" y=\"309.5\">\n",
              "    <tspan class=\"displacy-word\" fill=\"currentColor\" x=\"400\">founded</tspan>\n",
              "    <tspan class=\"displacy-tag\" dy=\"2em\" fill=\"currentColor\" x=\"400\">VERB</tspan>\n",
              "</text>\n",
              "\n",
              "<text class=\"displacy-token\" fill=\"currentColor\" text-anchor=\"middle\" y=\"309.5\">\n",
              "    <tspan class=\"displacy-word\" fill=\"currentColor\" x=\"575\">IbtidaaTech</tspan>\n",
              "    <tspan class=\"displacy-tag\" dy=\"2em\" fill=\"currentColor\" x=\"575\">PROPN</tspan>\n",
              "</text>\n",
              "\n",
              "<text class=\"displacy-token\" fill=\"currentColor\" text-anchor=\"middle\" y=\"309.5\">\n",
              "    <tspan class=\"displacy-word\" fill=\"currentColor\" x=\"750\">in</tspan>\n",
              "    <tspan class=\"displacy-tag\" dy=\"2em\" fill=\"currentColor\" x=\"750\">ADP</tspan>\n",
              "</text>\n",
              "\n",
              "<text class=\"displacy-token\" fill=\"currentColor\" text-anchor=\"middle\" y=\"309.5\">\n",
              "    <tspan class=\"displacy-word\" fill=\"currentColor\" x=\"925\">India</tspan>\n",
              "    <tspan class=\"displacy-tag\" dy=\"2em\" fill=\"currentColor\" x=\"925\">PROPN</tspan>\n",
              "</text>\n",
              "\n",
              "<text class=\"displacy-token\" fill=\"currentColor\" text-anchor=\"middle\" y=\"309.5\">\n",
              "    <tspan class=\"displacy-word\" fill=\"currentColor\" x=\"1100\">in</tspan>\n",
              "    <tspan class=\"displacy-tag\" dy=\"2em\" fill=\"currentColor\" x=\"1100\">ADP</tspan>\n",
              "</text>\n",
              "\n",
              "<text class=\"displacy-token\" fill=\"currentColor\" text-anchor=\"middle\" y=\"309.5\">\n",
              "    <tspan class=\"displacy-word\" fill=\"currentColor\" x=\"1275\">2025.</tspan>\n",
              "    <tspan class=\"displacy-tag\" dy=\"2em\" fill=\"currentColor\" x=\"1275\">NUM</tspan>\n",
              "</text>\n",
              "\n",
              "<g class=\"displacy-arrow\">\n",
              "    <path class=\"displacy-arc\" id=\"arrow-4f8a04fb535d4398be7ccc0f93a03653-0-0\" stroke-width=\"2px\" d=\"M70,264.5 C70,177.0 215.0,177.0 215.0,264.5\" fill=\"none\" stroke=\"currentColor\"/>\n",
              "    <text dy=\"1.25em\" style=\"font-size: 0.8em; letter-spacing: 1px\">\n",
              "        <textPath xlink:href=\"#arrow-4f8a04fb535d4398be7ccc0f93a03653-0-0\" class=\"displacy-label\" startOffset=\"50%\" side=\"left\" fill=\"currentColor\" text-anchor=\"middle\">compound</textPath>\n",
              "    </text>\n",
              "    <path class=\"displacy-arrowhead\" d=\"M70,266.5 L62,254.5 78,254.5\" fill=\"currentColor\"/>\n",
              "</g>\n",
              "\n",
              "<g class=\"displacy-arrow\">\n",
              "    <path class=\"displacy-arc\" id=\"arrow-4f8a04fb535d4398be7ccc0f93a03653-0-1\" stroke-width=\"2px\" d=\"M245,264.5 C245,177.0 390.0,177.0 390.0,264.5\" fill=\"none\" stroke=\"currentColor\"/>\n",
              "    <text dy=\"1.25em\" style=\"font-size: 0.8em; letter-spacing: 1px\">\n",
              "        <textPath xlink:href=\"#arrow-4f8a04fb535d4398be7ccc0f93a03653-0-1\" class=\"displacy-label\" startOffset=\"50%\" side=\"left\" fill=\"currentColor\" text-anchor=\"middle\">nsubj</textPath>\n",
              "    </text>\n",
              "    <path class=\"displacy-arrowhead\" d=\"M245,266.5 L237,254.5 253,254.5\" fill=\"currentColor\"/>\n",
              "</g>\n",
              "\n",
              "<g class=\"displacy-arrow\">\n",
              "    <path class=\"displacy-arc\" id=\"arrow-4f8a04fb535d4398be7ccc0f93a03653-0-2\" stroke-width=\"2px\" d=\"M420,264.5 C420,177.0 565.0,177.0 565.0,264.5\" fill=\"none\" stroke=\"currentColor\"/>\n",
              "    <text dy=\"1.25em\" style=\"font-size: 0.8em; letter-spacing: 1px\">\n",
              "        <textPath xlink:href=\"#arrow-4f8a04fb535d4398be7ccc0f93a03653-0-2\" class=\"displacy-label\" startOffset=\"50%\" side=\"left\" fill=\"currentColor\" text-anchor=\"middle\">dobj</textPath>\n",
              "    </text>\n",
              "    <path class=\"displacy-arrowhead\" d=\"M565.0,266.5 L573.0,254.5 557.0,254.5\" fill=\"currentColor\"/>\n",
              "</g>\n",
              "\n",
              "<g class=\"displacy-arrow\">\n",
              "    <path class=\"displacy-arc\" id=\"arrow-4f8a04fb535d4398be7ccc0f93a03653-0-3\" stroke-width=\"2px\" d=\"M420,264.5 C420,89.5 745.0,89.5 745.0,264.5\" fill=\"none\" stroke=\"currentColor\"/>\n",
              "    <text dy=\"1.25em\" style=\"font-size: 0.8em; letter-spacing: 1px\">\n",
              "        <textPath xlink:href=\"#arrow-4f8a04fb535d4398be7ccc0f93a03653-0-3\" class=\"displacy-label\" startOffset=\"50%\" side=\"left\" fill=\"currentColor\" text-anchor=\"middle\">prep</textPath>\n",
              "    </text>\n",
              "    <path class=\"displacy-arrowhead\" d=\"M745.0,266.5 L753.0,254.5 737.0,254.5\" fill=\"currentColor\"/>\n",
              "</g>\n",
              "\n",
              "<g class=\"displacy-arrow\">\n",
              "    <path class=\"displacy-arc\" id=\"arrow-4f8a04fb535d4398be7ccc0f93a03653-0-4\" stroke-width=\"2px\" d=\"M770,264.5 C770,177.0 915.0,177.0 915.0,264.5\" fill=\"none\" stroke=\"currentColor\"/>\n",
              "    <text dy=\"1.25em\" style=\"font-size: 0.8em; letter-spacing: 1px\">\n",
              "        <textPath xlink:href=\"#arrow-4f8a04fb535d4398be7ccc0f93a03653-0-4\" class=\"displacy-label\" startOffset=\"50%\" side=\"left\" fill=\"currentColor\" text-anchor=\"middle\">pobj</textPath>\n",
              "    </text>\n",
              "    <path class=\"displacy-arrowhead\" d=\"M915.0,266.5 L923.0,254.5 907.0,254.5\" fill=\"currentColor\"/>\n",
              "</g>\n",
              "\n",
              "<g class=\"displacy-arrow\">\n",
              "    <path class=\"displacy-arc\" id=\"arrow-4f8a04fb535d4398be7ccc0f93a03653-0-5\" stroke-width=\"2px\" d=\"M420,264.5 C420,2.0 1100.0,2.0 1100.0,264.5\" fill=\"none\" stroke=\"currentColor\"/>\n",
              "    <text dy=\"1.25em\" style=\"font-size: 0.8em; letter-spacing: 1px\">\n",
              "        <textPath xlink:href=\"#arrow-4f8a04fb535d4398be7ccc0f93a03653-0-5\" class=\"displacy-label\" startOffset=\"50%\" side=\"left\" fill=\"currentColor\" text-anchor=\"middle\">prep</textPath>\n",
              "    </text>\n",
              "    <path class=\"displacy-arrowhead\" d=\"M1100.0,266.5 L1108.0,254.5 1092.0,254.5\" fill=\"currentColor\"/>\n",
              "</g>\n",
              "\n",
              "<g class=\"displacy-arrow\">\n",
              "    <path class=\"displacy-arc\" id=\"arrow-4f8a04fb535d4398be7ccc0f93a03653-0-6\" stroke-width=\"2px\" d=\"M1120,264.5 C1120,177.0 1265.0,177.0 1265.0,264.5\" fill=\"none\" stroke=\"currentColor\"/>\n",
              "    <text dy=\"1.25em\" style=\"font-size: 0.8em; letter-spacing: 1px\">\n",
              "        <textPath xlink:href=\"#arrow-4f8a04fb535d4398be7ccc0f93a03653-0-6\" class=\"displacy-label\" startOffset=\"50%\" side=\"left\" fill=\"currentColor\" text-anchor=\"middle\">pobj</textPath>\n",
              "    </text>\n",
              "    <path class=\"displacy-arrowhead\" d=\"M1265.0,266.5 L1273.0,254.5 1257.0,254.5\" fill=\"currentColor\"/>\n",
              "</g>\n",
              "</svg></span>"
            ]
          },
          "metadata": {}
        },
        {
          "output_type": "display_data",
          "data": {
            "text/plain": [
              "<IPython.core.display.HTML object>"
            ],
            "text/html": [
              "<span class=\"tex2jax_ignore\"><div class=\"entities\" style=\"line-height: 2.5; direction: ltr\">\n",
              "<mark class=\"entity\" style=\"background: #aa9cfc; padding: 0.45em 0.6em; margin: 0 0.25em; line-height: 1; border-radius: 0.35em;\">\n",
              "    Khurram Rashid\n",
              "    <span style=\"font-size: 0.8em; font-weight: bold; line-height: 1; border-radius: 0.35em; vertical-align: middle; margin-left: 0.5rem\">PERSON</span>\n",
              "</mark>\n",
              " founded \n",
              "<mark class=\"entity\" style=\"background: #7aecec; padding: 0.45em 0.6em; margin: 0 0.25em; line-height: 1; border-radius: 0.35em;\">\n",
              "    IbtidaaTech\n",
              "    <span style=\"font-size: 0.8em; font-weight: bold; line-height: 1; border-radius: 0.35em; vertical-align: middle; margin-left: 0.5rem\">ORG</span>\n",
              "</mark>\n",
              " in \n",
              "<mark class=\"entity\" style=\"background: #feca74; padding: 0.45em 0.6em; margin: 0 0.25em; line-height: 1; border-radius: 0.35em;\">\n",
              "    India\n",
              "    <span style=\"font-size: 0.8em; font-weight: bold; line-height: 1; border-radius: 0.35em; vertical-align: middle; margin-left: 0.5rem\">GPE</span>\n",
              "</mark>\n",
              " in \n",
              "<mark class=\"entity\" style=\"background: #bfe1d9; padding: 0.45em 0.6em; margin: 0 0.25em; line-height: 1; border-radius: 0.35em;\">\n",
              "    2025\n",
              "    <span style=\"font-size: 0.8em; font-weight: bold; line-height: 1; border-radius: 0.35em; vertical-align: middle; margin-left: 0.5rem\">DATE</span>\n",
              "</mark>\n",
              ".</div></span>"
            ]
          },
          "metadata": {}
        }
      ]
    },
    {
      "cell_type": "markdown",
      "source": [
        "# **What Is Relation Extraction?**\n",
        "\n",
        "Relation Extraction (RE) is the process of identifying and extracting semantic relationships between entities in text.\n",
        "\n",
        "In simple terms, it answers:\n",
        "\n",
        "“How are these two entities related?”"
      ],
      "metadata": {
        "id": "Gu75XZCGndHe"
      }
    },
    {
      "cell_type": "code",
      "source": [
        "# pip install spacy\n",
        "# python -m spacy download en_core_web_sm\n",
        "\n",
        "import spacy\n",
        "\n",
        "# Load spaCy model\n",
        "nlp = spacy.load(\"en_core_web_sm\")\n",
        "\n",
        "# Sample text\n",
        "text = \"Khurram Rashid founded IbtidaaTech in India in 2025.\"\n",
        "\n",
        "# Process text\n",
        "doc = nlp(text)\n",
        "\n",
        "# Extract entities\n",
        "print(\"🏷️ Named Entities:\")\n",
        "for ent in doc.ents:\n",
        "    print(f\"{ent.text} --> {ent.label_}\")\n",
        "\n",
        "# Extract possible relations (verb-centered)\n",
        "relations = []\n",
        "for token in doc:\n",
        "    if token.dep_ == \"ROOT\" and token.pos_ == \"VERB\":\n",
        "        subject = [w.text for w in token.lefts if w.dep_ == \"nsubj\"]\n",
        "        obj = [w.text for w in token.rights if w.dep_ == \"dobj\"]\n",
        "        if subject and obj:\n",
        "            relations.append((subject[0], token.text, obj[0]))\n",
        "\n",
        "print(\"\\n🔗 Extracted Relations:\")\n",
        "for r in relations:\n",
        "    print(f\"{r[0]} —[{r[1]}]→ {r[2]}\")\n"
      ],
      "metadata": {
        "colab": {
          "base_uri": "https://localhost:8080/"
        },
        "id": "owol424UncdO",
        "outputId": "6892ee21-4cc3-4b84-c373-d92a4dcb0300"
      },
      "execution_count": 50,
      "outputs": [
        {
          "output_type": "stream",
          "name": "stdout",
          "text": [
            "🏷️ Named Entities:\n",
            "Khurram Rashid --> PERSON\n",
            "IbtidaaTech --> ORG\n",
            "India --> GPE\n",
            "2025 --> DATE\n",
            "\n",
            "🔗 Extracted Relations:\n",
            "Rashid —[founded]→ IbtidaaTech\n"
          ]
        }
      ]
    },
    {
      "cell_type": "markdown",
      "source": [
        "🧾 🔥 Full NLP Workflow Summary\n",
        "\n",
        "| Step | Task                     | Library | Example Output          |\n",
        "| ---- | ------------------------ | ------- | ----------------------- |\n",
        "| 1️⃣  | Text Cleaning            | re      | “hello i love nlp”      |\n",
        "| 2️⃣  | Tokenization             | nltk    | [‘I’, ‘love’, ‘NLP’]    |\n",
        "| 3️⃣  | Stopwords Removal        | nltk    | [‘love’, ‘NLP’]         |\n",
        "| 4️⃣  | Normalization            | nltk    | “running” → “run”       |\n",
        "| 5️⃣  | Text Exploration         | nltk    | NLP → 5 times           |\n",
        "| 6️⃣  | Information Extraction   | spaCy   | Extract people, places  |\n",
        "| 7️⃣  | POS Tagging              | spaCy   | “founded” → VERB        |\n",
        "| 8️⃣  | Dependency Parsing       | spaCy   | Rashid → founded → Tech |\n",
        "| 9️⃣  | Named Entity Recognition | spaCy   | India → GPE             |\n",
        "| 🔟   | Relation Extraction      | spaCy   | Rashid → founded → Tech |\n",
        "\n",
        "\n"
      ],
      "metadata": {
        "id": "sfB8lnWLoHO2"
      }
    }
  ]
}